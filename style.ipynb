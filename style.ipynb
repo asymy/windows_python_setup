{
 "cells": [
  {
   "cell_type": "markdown",
   "metadata": {},
   "source": [
    "# Style Guide for easy reading, referencing and collaboration"
   ]
  },
  {
   "cell_type": "markdown",
   "metadata": {},
   "source": [
    "## Use main function\n",
    "\n",
    "- Indicates that the file is to be run as a script\n",
    "- keeps variables away from global namespace"
   ]
  },
  {
   "cell_type": "code",
   "execution_count": 1,
   "metadata": {},
   "outputs": [],
   "source": [
    "def main():\n",
    "    ...\n",
    "\n",
    "if __name__ == '__main__':\n",
    "    main()"
   ]
  },
  {
   "cell_type": "markdown",
   "metadata": {},
   "source": [
    "## Name variables something sensible\n",
    "\n",
    "- easily understandable\n",
    "- identifiable & unique\n",
    "- descriptive"
   ]
  },
  {
   "cell_type": "code",
   "execution_count": 2,
   "metadata": {},
   "outputs": [],
   "source": [
    "# not good\n",
    "x = 3\n",
    "y = 5\n",
    "z = x/y\n",
    "\n",
    "# better\n",
    "distance = 3\n",
    "time = 5\n",
    "speed = distance/time"
   ]
  },
  {
   "cell_type": "markdown",
   "metadata": {},
   "source": [
    "## Document your functions\n",
    "### Docstring"
   ]
  },
  {
   "cell_type": "code",
   "execution_count": 3,
   "metadata": {},
   "outputs": [],
   "source": [
    "def my_sum(input1, input2):\n",
    "    \"\"\"\n",
    "    my_function description\n",
    "    :param input1: input1 description\n",
    "    :param input2: input2 description\n",
    "    :return: description\n",
    "    \"\"\"\n",
    "    return input1 + input2"
   ]
  },
  {
   "cell_type": "markdown",
   "metadata": {},
   "source": [
    "### Type Hints"
   ]
  },
  {
   "cell_type": "code",
   "execution_count": 4,
   "metadata": {},
   "outputs": [],
   "source": [
    "def my_sum(input1: int, input2: int) -> int:\n",
    "    return input1 + input2"
   ]
  },
  {
   "cell_type": "markdown",
   "metadata": {},
   "source": [
    "### Set Default Values"
   ]
  },
  {
   "cell_type": "code",
   "execution_count": 5,
   "metadata": {},
   "outputs": [],
   "source": [
    "def my_sum(input1 = 1, input2 = 2):\n",
    "    return input1 + input2"
   ]
  },
  {
   "cell_type": "markdown",
   "metadata": {},
   "source": [
    "### Combination"
   ]
  },
  {
   "cell_type": "code",
   "execution_count": 6,
   "metadata": {},
   "outputs": [],
   "source": [
    "def my_sum(input1: int = 1, input2: int = 2) -> int:\n",
    "    \"\"\"\n",
    "    my_sum description\n",
    "    :param input1: input1 description\n",
    "    :param input2: input2 description\n",
    "    :return: description\n",
    "    \"\"\"\n",
    "    return input1 + input2"
   ]
  },
  {
   "cell_type": "markdown",
   "metadata": {},
   "source": [
    "## Formatting\n",
    "\n",
    "### From PEP8 style guide\n",
    "\n",
    "- Never use the characters ‘l’ (lowercase letter el), ‘O’ (uppercase letter oh), or ‘I’ (uppercase letter eye) as single character variable names.\n",
    "\n",
    "### Modules & Packages\n",
    "\n",
    "- Modules should have short, all-lowercase names.\n",
    "- Underscores can be used in the module name if it improves readability.\n",
    "- Python packages should also have short, all-lowercase names, although the use of underscores is discouraged.\n",
    "\n",
    "### Classes\n",
    "\n",
    "- Class names should normally use the CapWords convention.\n",
    "\n",
    "### Functions & Variables\n",
    "\n",
    "- Function names should be lowercase, with words separated by underscores as necessary to improve readability.\n",
    "- Variable names follow the same convention as function names.\n",
    "\n",
    "### Method & Class Arguments\n",
    "\n",
    "- Always use self for the first argument to instance methods.\n",
    "- Always use cls for the first argument to class methods.\n",
    "\n",
    "### Methods\n",
    "\n",
    "- Use the function naming rules: lowercase with words separated by underscores as necessary to improve readability.\n",
    "- Use one leading underscore only for non-public methods and instance variables.\n",
    "\n",
    "### Constants\n",
    "\n",
    "- Constants are usually defined on a module level and written in all capital letters with underscores separating words."
   ]
  },
  {
   "cell_type": "code",
   "execution_count": 14,
   "metadata": {},
   "outputs": [
    {
     "name": "stdout",
     "output_type": "stream",
     "text": [
      "The time taken to fall 50m is: 3.19s.\n"
     ]
    }
   ],
   "source": [
    "import numpy as np\n",
    "\n",
    "GRAVITY = 9.834\n",
    "\n",
    "\n",
    "def calculate_fall_time(displacement: float) -> float:\n",
    "    \"\"\"\n",
    "    Calculate the fall time of an object on earth when given a displacemnt value.\n",
    "    :param displacement: The distance fallen in m.\n",
    "    :return: Time taken to fall provided distance in s.\n",
    "    \"\"\"\n",
    "    return np.sqrt(2*displacement/GRAVITY)\n",
    "\n",
    "\n",
    "def main():\n",
    "    displacement = 50  # meters\n",
    "    time = calculate_fall_time(displacement)\n",
    "    print(f'The time taken to fall {displacement}m is: {time:.2f}s.')\n",
    "\n",
    "\n",
    "if __name__ == '__main__':\n",
    "    main()\n"
   ]
  },
  {
   "cell_type": "markdown",
   "metadata": {},
   "source": [
    "- The same script but with comments explaining how it conforms to the style guide."
   ]
  },
  {
   "cell_type": "code",
   "execution_count": 15,
   "metadata": {},
   "outputs": [
    {
     "name": "stdout",
     "output_type": "stream",
     "text": [
      "The time taken to fall 50m is: 3.19s.\n"
     ]
    }
   ],
   "source": [
    "# Importing module, convention for numpy is to import as np\n",
    "# Only using one function but still import whole module\n",
    "import numpy as np\n",
    "\n",
    "# Global constant\n",
    "GRAVITY = 9.834\n",
    "\n",
    "\n",
    "# Snake case, descriptive function name, type hints & docstring\n",
    "def calculate_fall_time(displacement: float) -> float:\n",
    "    \"\"\"\n",
    "    Calculate the fall time of an object on earth when given a displacemnt value.\n",
    "    :param displacement: The distance fallen in m.\n",
    "    :return: Time taken to fall provided distance in s.\n",
    "    \"\"\"\n",
    "    return np.sqrt(2*displacement/GRAVITY)\n",
    "\n",
    "\n",
    "def main():\n",
    "    # Descriptive variable names, comments for unit reminders without going back to function\n",
    "    displacement = 50  # meters\n",
    "    time = calculate_fall_time(displacement)\n",
    "    # f string is most readable format\n",
    "    print(f'The time taken to fall {displacement}m is: {time:.2f}s.')\n",
    "\n",
    "\n",
    "# To be run as a script, keeps most values out of global scope\n",
    "if __name__ == '__main__':\n",
    "    main()\n"
   ]
  },
  {
   "cell_type": "code",
   "execution_count": 21,
   "metadata": {},
   "outputs": [],
   "source": [
    "class Dog:\n",
    "    \"\"\"A simple animal class\"\"\"\n",
    "\n",
    "    kind = 'canine'\n",
    "    sound = 'bark'\n",
    "\n",
    "    def __init__(self, name, age, breed):\n",
    "        self.name = name\n",
    "        self.age = age\n",
    "        self.breed = breed\n",
    "        self.tricks = []\n",
    "\n",
    "    def add_trick(self, trick):\n",
    "        \"\"\"\n",
    "        Add trick to dog's abilities.\n",
    "        \n",
    "        :param trick: string of trick to be added\n",
    "        \"\"\"\n",
    "        self.tricks.append(trick)\n",
    "        \n",
    "    def speak(self):\n",
    "        \"\"\"\n",
    "        Ask the animal to speak.\n",
    "        \"\"\"\n",
    "        print(f'Hi I am {self.name} and I go {self.sound}.')\n"
   ]
  },
  {
   "cell_type": "code",
   "execution_count": 33,
   "metadata": {},
   "outputs": [
    {
     "name": "stdout",
     "output_type": "stream",
     "text": [
      "Hi I am Willow and I go bark.\n",
      "Hi I am Luna and I go meow.\n",
      "There are currently 3 animals defined\n"
     ]
    }
   ],
   "source": [
    "class Animal():\n",
    "    \"\"\"Parent animal class\"\"\"\n",
    "\n",
    "    animals = []\n",
    "\n",
    "    def __init__(self, name, age):\n",
    "        self.name = name\n",
    "        self.age = age\n",
    "        self.animals.append(self)\n",
    "\n",
    "    def speak(self):\n",
    "        \"\"\"\n",
    "        Ask the animal to speak.\n",
    "        \"\"\"\n",
    "        print(f'Hi I am {self.name} and I go {self.sound}.')\n",
    "\n",
    "    @classmethod\n",
    "    def num_of_animals(cls):\n",
    "        return len(cls.animals)\n",
    "\n",
    "class Dog(Animal):\n",
    "    \"\"\"Dog class inherits from Animal class\"\"\"\n",
    "\n",
    "    kind = 'canine'\n",
    "    sound = 'bark'\n",
    "\n",
    "    def __init__(self, name, age, breed):\n",
    "        super().__init__(name,age)\n",
    "        self.breed = breed\n",
    "        self.tricks = []\n",
    "\n",
    "    def add_trick(self, trick):\n",
    "        \"\"\"\n",
    "        Add trick to dog's abilities.\n",
    "        \n",
    "        :param trick: string of trick to be added\n",
    "        \"\"\"\n",
    "        self.tricks.append(trick)\n",
    "\n",
    "class Cat(Animal):\n",
    "    \"\"\"Cat class also inherits from Animal class\"\"\"\n",
    "\n",
    "    kind = 'feline'\n",
    "    sound = 'meow'\n",
    "\n",
    "    def __init__(self, name, age, color):\n",
    "        super().__init__(name,age)\n",
    "        self.color = color\n",
    "\n",
    "\n",
    "d1 = Dog('Willow', 1, 'Spaniel')\n",
    "d2 = Dog('Misty', 12, 'Labrador')\n",
    "c1 = Cat('Luna', 5, 'Black')\n",
    "\n",
    "d1.speak()\n",
    "c1.speak()\n",
    "\n",
    "print(f'There are currently {Animal.num_of_animals()} animals defined.')\n"
   ]
  }
 ],
 "metadata": {
  "kernelspec": {
   "display_name": "Python 3.10.7 64-bit",
   "language": "python",
   "name": "python3"
  },
  "language_info": {
   "codemirror_mode": {
    "name": "ipython",
    "version": 3
   },
   "file_extension": ".py",
   "mimetype": "text/x-python",
   "name": "python",
   "nbconvert_exporter": "python",
   "pygments_lexer": "ipython3",
   "version": "3.10.7"
  },
  "orig_nbformat": 4,
  "vscode": {
   "interpreter": {
    "hash": "b0fa6594d8f4cbf19f97940f81e996739fb7646882a419484c72d19e05852a7e"
   }
  }
 },
 "nbformat": 4,
 "nbformat_minor": 2
}
