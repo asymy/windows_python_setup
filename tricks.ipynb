{
 "cells": [
  {
   "cell_type": "markdown",
   "metadata": {},
   "source": [
    "# Tips and tricks"
   ]
  },
  {
   "cell_type": "markdown",
   "metadata": {},
   "source": [
    "## Unused Variables\n",
    "\n",
    "- Sometimes you have a variable which is unused so you don't need to define it.\n",
    "- Prepend underscore _ when naming variables that are unused."
   ]
  },
  {
   "cell_type": "code",
   "execution_count": null,
   "metadata": {},
   "outputs": [],
   "source": [
    "dictonary = {'key1': 1, 'key2': 2}\n",
    "\n",
    "for key, _value in dictonary.items():\n",
    "    print(key)"
   ]
  },
  {
   "cell_type": "markdown",
   "metadata": {},
   "source": [
    "- Here the value in the dictonary is not used so we should use an underscore to indicate the variable is not used, but defining it still allows the code to be understood."
   ]
  },
  {
   "cell_type": "markdown",
   "metadata": {},
   "source": [
    "## Finding types of variables\n",
    "\n",
    "- sometimes you need to check the type of a variable"
   ]
  },
  {
   "cell_type": "code",
   "execution_count": null,
   "metadata": {},
   "outputs": [],
   "source": [
    "x = 1\n",
    "print(type(x))\n",
    "\n",
    "x = 1.0\n",
    "print(type(x))\n",
    "\n",
    "x = '1.0'\n",
    "print(type(x))"
   ]
  },
  {
   "cell_type": "code",
   "execution_count": null,
   "metadata": {},
   "outputs": [],
   "source": [
    "x = 1\n",
    "if isinstance(x, int):\n",
    "    print(f'The variable is an integer.')\n",
    "elif isinstance(x, float):\n",
    "    print(f'The variable is a float.')\n",
    "elif isinstance(x, str):\n",
    "    print(f'The variable is a string.')\n",
    "else:\n",
    "    print(f'The variable is not a integer, float or string.')"
   ]
  },
  {
   "cell_type": "markdown",
   "metadata": {},
   "source": [
    "- Sometimes you may want to check if it is between two or more types."
   ]
  },
  {
   "cell_type": "code",
   "execution_count": null,
   "metadata": {},
   "outputs": [],
   "source": [
    "x = 1\n",
    "# Python 3.10 notation\n",
    "if isinstance(x, int | float | str):\n",
    "    print(f'The variable is either integer, float or string.')\n",
    "\n",
    "# Python <3.10 notation\n",
    "from typing import Union\n",
    "if isinstance(x, Union[int,float,str]):\n",
    "    print(f'The variable is either integer, float or string.')"
   ]
  },
  {
   "cell_type": "markdown",
   "metadata": {},
   "source": [
    "## Referring to dictonary items"
   ]
  },
  {
   "cell_type": "code",
   "execution_count": null,
   "metadata": {},
   "outputs": [],
   "source": [
    "# good\n",
    "dictonary.get('key1')\n",
    "\n",
    "# bad\n",
    "dictonary['key1']"
   ]
  },
  {
   "cell_type": "markdown",
   "metadata": {},
   "source": [
    "## Looping through lists"
   ]
  },
  {
   "cell_type": "code",
   "execution_count": null,
   "metadata": {},
   "outputs": [],
   "source": [
    "my_list = [1, 2, 3, 4]\n",
    "\n",
    "# Good\n",
    "for index, value in enumerate(my_list):\n",
    "    print(index, value)\n",
    "\n",
    "# Bad\n",
    "for index in range(len(my_list)):\n",
    "    print(index, my_list[index])\n",
    "\n",
    "# Only need value\n",
    "for value in my_list:\n",
    "    print(value)"
   ]
  },
  {
   "cell_type": "markdown",
   "metadata": {},
   "source": [
    "## Looping through dictionaries"
   ]
  },
  {
   "cell_type": "code",
   "execution_count": null,
   "metadata": {},
   "outputs": [],
   "source": [
    "my_dictionary = {\n",
    "    'key1': 1,\n",
    "    'key2': 2.0,\n",
    "    'key3': '3',\n",
    "    'key4': [1, 2.0, '3']\n",
    "}\n",
    "\n",
    "for key, value in my_dictionary.items():\n",
    "    print(key, value)"
   ]
  },
  {
   "cell_type": "markdown",
   "metadata": {},
   "source": [
    "## Looping through tuples"
   ]
  },
  {
   "cell_type": "code",
   "execution_count": null,
   "metadata": {},
   "outputs": [],
   "source": [
    "my_tuple = (1,2,3)\n",
    "\n",
    "for index, value in enumerate(my_tuple):\n",
    "    print(index, value)\n",
    "\n",
    "for value in my_tuple:\n",
    "    print(value)"
   ]
  },
  {
   "cell_type": "markdown",
   "metadata": {},
   "source": [
    "## f strings"
   ]
  },
  {
   "cell_type": "code",
   "execution_count": null,
   "metadata": {},
   "outputs": [],
   "source": [
    "name = 'Alison'\n",
    "age = 28\n",
    "\n",
    "# manual formatting - longer and less readable\n",
    "my_string = 'Hi my name is ' + name + ' and I am ' + str(age) + ' years old!'\n",
    "print(my_string)\n",
    "\n",
    "# f string - easier to read, easier to format\n",
    "my_string = f'Hi my name is {name} and I am {age} years old!'\n",
    "print(my_string)"
   ]
  },
  {
   "cell_type": "markdown",
   "metadata": {},
   "source": [
    "## Open files"
   ]
  },
  {
   "cell_type": "code",
   "execution_count": null,
   "metadata": {},
   "outputs": [],
   "source": [
    "# write\n",
    "with open('test.txt', 'w') as my_file:\n",
    "    my_file.write(\"Hello world \\n\")\n",
    "\n",
    "# append\n",
    "with open('test.txt', 'a') as my_file:\n",
    "    my_file.write(\"Hello world \\n\")\n",
    "\n",
    "# read\n",
    "with open('test.txt') as my_file:\n",
    "    print(my_file.read())"
   ]
  },
  {
   "cell_type": "markdown",
   "metadata": {},
   "source": [
    "## Comprehensions"
   ]
  },
  {
   "cell_type": "code",
   "execution_count": null,
   "metadata": {},
   "outputs": [],
   "source": [
    "dict_comp = {i: i * i for i in range(10)}\n",
    "print(dict_comp)\n",
    "list_comp = [x*x for x in range (10)]\n",
    "print(list_comp)\n",
    "gen_comp =  (2*x+5 for x in range(10))\n",
    "print(*gen_comp)"
   ]
  }
 ],
 "metadata": {
  "kernelspec": {
   "display_name": "Python 3.10.7 64-bit",
   "language": "python",
   "name": "python3"
  },
  "language_info": {
   "codemirror_mode": {
    "name": "ipython",
    "version": 3
   },
   "file_extension": ".py",
   "mimetype": "text/x-python",
   "name": "python",
   "nbconvert_exporter": "python",
   "pygments_lexer": "ipython3",
   "version": "3.10.7"
  },
  "orig_nbformat": 4,
  "vscode": {
   "interpreter": {
    "hash": "b0fa6594d8f4cbf19f97940f81e996739fb7646882a419484c72d19e05852a7e"
   }
  }
 },
 "nbformat": 4,
 "nbformat_minor": 2
}
